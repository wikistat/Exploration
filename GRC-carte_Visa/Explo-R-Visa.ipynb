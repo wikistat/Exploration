{
 "cells": [
  {
   "cell_type": "markdown",
   "metadata": {},
   "source": [
    "<center>\n",
    "<a href=\"http://www.insa-toulouse.fr/\" ><img src=\"http://www.math.univ-toulouse.fr/~besse/Wikistat/Images/logo-insa.jpg\" style=\"float:left; max-width: 120px; display: inline\" alt=\"INSA\"/></a> \n",
    "\n",
    "<a href=\"http://wikistat.fr/\" ><img src=\"http://www.math.univ-toulouse.fr/~besse/Wikistat/Images/wikistat.jpg\" style=\"float:right; max-width: 250px; display: inline\"  alt=\"Wikistat\"/></a>\n",
    "</center>"
   ]
  },
  {
   "cell_type": "markdown",
   "metadata": {},
   "source": [
    "# [Scénarios d'Exploration Statistique](https://github.com/wikistat/Exploration)"
   ]
  },
  {
   "cell_type": "markdown",
   "metadata": {},
   "source": [
    "# GRC: Segmentation d'une clientèle bancaire avec <a href=\"https://cran.r-project.org/\"><img src=\"https://cran.r-project.org/Rlogo.svg\" style=\"max-width: 40px; display: inline\" alt=\"R\"/></a>"
   ]
  },
  {
   "cell_type": "markdown",
   "metadata": {},
   "source": [
    "**Résumé**\n",
    "Ce scénario décrit le traitement classique, la fouille, de données pour la gestion de la relation client (GRC); exploration de données bancaires par des méthodes uni, bi et [multidimensionnelles](http://wikistat.fr/pdf/st-m-explo-intro.pdf): [ACP](http://wikistat.fr/pdf/st-m-explo-acp.pdf), [AFCM](http://wikistat.fr/pdf/st-m-explo-afcm.pdf) puis segmentation de clientèle par classification non-supervisée [k-means, CAH](http://wikistat.fr/pdf/st-m-explo-classif.pdf) et représentation, interprétation des classes.\n",
    "\n",
    "## 1 Introduction\n",
    "### 1.1 Objectif\n",
    "Ce scénatio propose  de décrire un jeu de données bancaires  en utilisant les principales méthodes de statistique exploratoire multidimensionnelle: analyse en composantes principales, analyse des correspondances simple et multiple, classification non supervisée. L'objectif principal, classqiue en marketing, est de produire une *segmentation* de clientèle, c'est-à-dire une répartition en classes homogènes des clients en fonction de leur comportement bancaire. C'est aussi la mise en oeuvre d'une démarche classique permettant d'affiner sa compréhension des données dans l'idée de construire un [score d'appétence](http://www.math.univ-toulouse.fr/~besse/Wikistat/pdf/st-scenar-app-visa.pdf) pour la carte visa premier. Ce deuxième objectif est intégré à la saison 3 ([Apprentissage Statistique](https://github.com/wikistat/Apprentissage)). Il s'agit du score d'appétence de la carte Visa Premier mais ce pourrait être un score d'attrition ({\\it churn}) d'un opérateur téléphonique ou encore un score de défaillance d'un emprunteur (*credit scoring*) ou de faillite d'une entreprise; les outils de modélisation sont les mêmes et sont très largement utilisés dans tout le secteur tertiaire pour l'aide à la décision.\n",
    "\n",
    "\n",
    "D'autres versions du même scénario d'analyse sont disponibles. [Une](http://www.math.univ-toulouse.fr/~besse/Wikistat/pdf/st-scenar-explo-spam.pdf) propose d'utiliser le logiciel SAS et une [autre](https://github.com/wikistat/Exploration/blob/master/GRC-carte_Visa/Explo-Python-Visa.ipynb) écrite en python met en oeuvre la librairie *Scikit-learn*. \n",
    "\n",
    "**Attention** Le déroulement de cette version a été organisé pour suivre la progression pédagogique des épisodes de la saison 2.\n",
    "\n",
    "### 1.2 Présentation des données\n",
    "#### Les variables\n",
    "La liste des variables est issue d'une base de données retraçant l'historique mensuel bancaire et les caractéristiques de tous les clients. Un sondage a été réalisé afin d'alléger les traitements ainsi qu'une première sélection de variables. Les variables contenues dans le fichier initial sont décrites dans le tableau ci-dessous. Elles sont observées sur 1425 clients.\n",
    "\n",
    "*Tableau: Liste des variables et de leur libellé* Attention, ils sont finalement écrits en majuscules dans les programmes.\n",
    "\n",
    "**Identifiant** | **Libellé**\n",
    "           --|--\n",
    "`matric` | Matricule (identifiant client)\n",
    "`depts` | Département de résidence\n",
    "`pvs` | Point de vente\n",
    "`sexeq` | Sexe (qualitatif) \n",
    "`ager` | Age en années\n",
    "`famiq` | Situation familiale: `Fmar Fcel Fdiv Fuli Fsep Fveu`\n",
    "`relat` | Ancienneté de relation en mois\n",
    "`pcspq` | Catégorie socio-professionnelle (code num)\n",
    "`quals` | Code \"qualité\" client évalué par la banque\n",
    "`GxxGxxS` | plusieurs variables caractérisant les interdits bancaires\n",
    "`impnbs` | Nombre d'impayés en cours\n",
    "`rejets` | Montant total des rejets en francs\n",
    "`opgnb` | Nombre d'opérations par guichet dans le mois\n",
    "`moyrv` | Moyenne des mouvements nets créditeurs des 3 mois en Kf\n",
    "`tavep` | Total des avoirs épargne monétaire en francs\n",
    "`endet` | Taux d'endettement\n",
    "`gaget` | Total des engagements en francs\n",
    "`gagec` | Total des engagements court terme en francs\n",
    "`gagem` | Total des engagements moyen terme en francs\n",
    "`kvunb` | Nombre de comptes à vue\n",
    "`qsmoy` | Moyenne des soldes moyens sur 3 mois\n",
    "`qcred` | Moyenne des mouvements créditeurs en Kf\n",
    "`dmvtp` | Age du dernier mouvement (en jours)\\hline\n",
    "`boppn` | Nombre d'opérations à M-1\n",
    "`facan` | Montant facturé dans l'année en francs\n",
    "`lgagt` | Engagement long terme\n",
    "`vienb` | Nombre de produits contrats vie\n",
    "`viemt` | Montant des produits contrats vie en francs\n",
    "`uemnb` | Nombre de produits épargne monétaire\n",
    "`uemmts` | Montant des produits d'épargne monétaire en francs\n",
    "`xlgnb` | Nombre de produits d'épargne logement\n",
    "`xlgmt` | Montant des produits d'épargne logement en francs\n",
    "`ylvnb` | Nombre de comptes sur livret\n",
    "`ylvmt` | Montant des comptes sur livret en francs\n",
    "`nbelts` | Nombre de produits d'épargne long terme\n",
    "`mtelts` | Montant des produits d'épargne long terme en francs\n",
    "`nbcats` | Nombre de produits épargne à terme\n",
    "`mtcats` | Montant des produits épargne à terme\n",
    "`nbbecs` | Nombre de produits bons et certificats\n",
    "`mtbecs` | Montant des produits bons et certificats en francs\n",
    "`rocnb` | Nombre de paiements par carte bancaire à M-1\n",
    "`ntcas` | Nombre total de cartes\n",
    "`nptag` | Nombre de cartes point argent\n",
    "`segv2s` | Segmentation version 2\n",
    "`itavc` | Total des avoirs sur tous les comptes\n",
    "`havef` | Total des avoirs épargne financière en francs\n",
    "`jnbjd1s` | Nombre de jours à débit à M\n",
    "`jnbjd2s` | Nombre de jours à débit à M-1\n",
    "`jnbjd3s` | Nombre de jours à débit à M-2\n",
    "**`carvp`** | **Possession de la carte VISA Premier}**\n",
    "\n",
    "\n",
    "**Réponde aux questions en s'aidant des résultats des exécutions**"
   ]
  },
  {
   "cell_type": "markdown",
   "metadata": {},
   "source": [
    "# <FONT COLOR=\"Red\">Épisode 1 *Data Munging*</font>"
   ]
  },
  {
   "cell_type": "markdown",
   "metadata": {},
   "source": [
    "## 2 Lecture et prétraitement  des données\n",
    "Les données sont disponibles dans le répertoire de ce calepin et chargées en même temps.\n",
    "\n",
    "Même si les données sont déjà extraites par échantillonnage d'une très grande base, elles nécessitent un travail prémiminaire (*data munging*) pour détecter, corriger les erreurs et incohérences, éliminer des redondances, traiter les données manquantes, transformer certaines variables.  Ce travail préliminaire, souvent long et fastidieux, nécessite d'y consacer beaucoup de temps et de rigueur afin de s'assurer de la qualité finale des résultats. \n",
    "\n",
    "IL aurait pu être rendu plus efficace (programme plus concis et exécution plus rapide) en utilisant la librairie [`dplyr`](https://cran.r-project.org/web/packages/dplyr/dplyr.pdf) très adaptée à cet usage. Mais, faisant appel à des outils classiques de statistique descriptive, il est détaillé à fin pédagogique. \n",
    "\n",
    "Les données sont anonymisées et datent du siècle dernier, elles n'ont plus d'intérêt \"commercial\". De façon générale, plutôt que de conserver tous les fichiers de données intermédiaires à une étude, ce qui peut nécessiter beaucoup d'espace disque, il est important, voire crucial, d'archiver *tous* les programmes intermédiaires de saisie, sélection, transformation des données. En effet, en cas de problème ou même simplement d'un mauvais choix méthodologique, il faut pouvoir rapidement repartir d'une étape précédente. \n",
    "\n",
    "La production d'un calepin aide à cette mémoire lors de l'analyse préliminaire mais ne constitue pas un code opérationnel qui nécessite une phase d'industrialisation.\n",
    "\n",
    "### 2.1 Lecture des données\n",
    "Le fichier est en principe chargé en même temps que le calepin à partir de l'archive du dépôt. Il date d'une époque ou le stockage coûtait cher. Les codes sont donc trop succincts et il faut les rendre explicites pour une lecture facile des résultats. Ainsi, les modalités d'une même variable commencent par le même lettre."
   ]
  },
  {
   "cell_type": "code",
   "execution_count": null,
   "metadata": {},
   "outputs": [],
   "source": [
    "library(methods)\n",
    "# définition des formats de lecture d'une ligne\n",
    "type = c(rep(\"character\",4),\"numeric\",\"character\",\"numeric\",rep(\"character\",9),\n",
    "         rep(\"numeric\",33),\"character\",rep(\"numeric\",5),\"character\")\n",
    "# Lecture du fichier en précisant les cas de données manquantes\n",
    "visprem0 = read.table(\"visa_raw_R.dat\",header=T,row.names=1,colClasses=type,\n",
    "                      na.strings=c(\".\",\"\",\"NA\"))"
   ]
  },
  {
   "cell_type": "markdown",
   "metadata": {},
   "source": [
    "### 2.2 Codage des modalités"
   ]
  },
  {
   "cell_type": "code",
   "execution_count": null,
   "metadata": {},
   "outputs": [],
   "source": [
    "visprem1<-visprem0 \n",
    "visprem1[,\"SEXEQ\"]<-factor(visprem0[,\"SEXEQ\"],\n",
    "                     levels=c(\"1\",\"2\"),\n",
    "                     labels=c(\"Shom\",\"Sfem\"))\n",
    "visprem1[,\"FAMIQ\"]<-factor(visprem0[,\"FAMIQ\"],\n",
    "                     levels=c(\"C\",\"D\",\"inc\",\"M\",\"S\",\"U\",\"V\"),\n",
    "                     labels=c(\"Fcel\",\"Fdiv\",\"Finc\",\"Fmar\",\"Fsep\",\"Fuli\",\"Fveu\"))\n",
    "visprem1[,\"CARVP\"]=factor(visprem0[,\"CARVP\"],\n",
    "                     levels=c(\"oui\",\"non\"),\n",
    "                     labels=c(\"Coui\",\"Cnon\"))\n",
    "visprem0[,\"PCSPQ\"]=substr(as.character(visprem0[,\"PCSPQ\"]),1,1)\n",
    "visprem0[,\"PCSPQ\"]=factor(visprem0[,\"PCSPQ\"])\n",
    "levels(visprem0[,\"PCSPQ\"])=list(a=\"0\",b=\"1\",c=\"2\",d=\"3\",e=\"4\",f=\"5\",g=\"6\",h=\"7\",j=\"8\",a=\"i\")\n",
    "visprem1[,\"PCSPQ\"]<-factor(visprem0[,\"PCSPQ\"],\n",
    "                  levels=c(\"a\",\"b\",\"c\",\"d\",\"e\",\"f\",\"g\",\"h\",\"j\"),\n",
    "                  labels=c(\"Pinc\",\"Pagr\",\"Part\",\"Pcad\",\"Pint\",\"Pemp\",\"Pouv\",\"Pret\",\"Psan\"))\n",
    "summary(visprem1)"
   ]
  },
  {
   "cell_type": "markdown",
   "metadata": {},
   "source": [
    "###  2.3 Premiers nettoyages\n",
    "Suppression d'observations non pertinentes: interdits bancaires et comptes professionnels."
   ]
  },
  {
   "cell_type": "code",
   "execution_count": null,
   "metadata": {},
   "outputs": [],
   "source": [
    "visprem1=subset(visprem1,visprem1[,\"G29G30S\"]!=\"B\") \n",
    "visprem1=subset(visprem1,visprem1[,\"G29G30S\"]!=\"X\") \n",
    "visprem1=subset(visprem1,visprem1[,\"G03G04S\"]!=\"B\") \n",
    "visprem1=subset(visprem1,visprem1[,\"G03G04S\"]!=\"X\") \n",
    "visprem1=subset(visprem1,visprem1[,\"G45G46S\"]!=\"A\") \n",
    "visprem1=subset(visprem1,visprem1[,\"G45G46S\"]!=\"B\") \n",
    "visprem1=subset(visprem1,visprem1[,\"G45G46S\"]!=\"X\") \n",
    "visprem1=subset(visprem1,visprem1[,\"G37G38S\"]!=\"A\")\n",
    "visprem1=subset(visprem1,visprem1[,\"G25G26S\"]!=\"A\") \n",
    "visprem1=subset(visprem1,visprem1[,\"G25G26S\"]!=\"B\") \n",
    "visprem1=subset(visprem1,visprem1[,\"G25G26S\"]!=\"X\") \n",
    "visprem1=subset(visprem1,visprem1[,\"G47G48S\"]!=\"B\")"
   ]
  },
  {
   "cell_type": "code",
   "execution_count": null,
   "metadata": {},
   "outputs": [],
   "source": [
    "visprem1=visprem1[(visprem1[,\"NBCATS\"]==\"1\")==\"FALSE\",]\n",
    "visprem1=visprem1[(visprem1[,\"NBBECS\"]==\"1\")==\"FALSE\",] "
   ]
  },
  {
   "cell_type": "markdown",
   "metadata": {},
   "source": [
    "L'étude ne s'intéresse qu'aux clients de 18 à 65 ans. Cei supprime également les 29 observations présentant systématiquement des données manquantes."
   ]
  },
  {
   "cell_type": "code",
   "execution_count": null,
   "metadata": {},
   "outputs": [],
   "source": [
    "visprem1<-subset(visprem1,visprem1[,\"AGER\"]>17)\n",
    "visprem1<-subset(visprem1,visprem1[,\"AGER\"]<66)"
   ]
  },
  {
   "cell_type": "markdown",
   "metadata": {},
   "source": [
    "Regroupement du nombre de jours debiteurs en une seule variable"
   ]
  },
  {
   "cell_type": "code",
   "execution_count": null,
   "metadata": {},
   "outputs": [],
   "source": [
    "JNBJD = visprem1[,\"JNBJD1S\"]+visprem1[,\"JNBJD2S\"]+visprem1[,\"JNBJD3S\"]\n",
    "visprem1 = as.data.frame(cbind(visprem1,JNBJD))"
   ]
  },
  {
   "cell_type": "markdown",
   "metadata": {},
   "source": [
    "Première sélection des variables retenues"
   ]
  },
  {
   "cell_type": "code",
   "execution_count": null,
   "metadata": {},
   "outputs": [],
   "source": [
    "var<-c(\"SEXEQ\",\"AGER\",\"FAMIQ\",\n",
    "  \"RELAT\",\"PCSPQ\",\"IMPNBS\",\"REJETS\",\"OPGNB\",\"MOYRV\",\"TAVEP\",\"ENDET\",\"GAGET\",\n",
    "  \"GAGEC\",\"GAGEM\",\"KVUNB\",\"QSMOY\",\"QCRED\",\"DMVTP\",\"BOPPN\",\n",
    "  \"FACAN\",\"LGAGT\",\"VIENB\",\"VIEMT\",\"UEMNB\",\"UEMMTS\",\"XLGNB\",\n",
    "  \"XLGMT\",\"YLVNB\",\"YLVMT\",\"NBELTS\",\"MTELTS\",\"NBCATS\",\"MTCATS\",\n",
    "  \"NBBECS\",\"MTBECS\",\"ROCNB\",\"NTCAS\",\"NPTAG\",\"ITAVC\",\n",
    "  \"HAVEF\",\"JNBJD\",\"CARVP\")\n",
    " visprem = visprem1[,var]"
   ]
  },
  {
   "cell_type": "markdown",
   "metadata": {},
   "source": [
    "### 2.4 Desciption univariée et bivariée\n",
    "Certaines variables nécessitent des traitements pllus élaborées pourrésoudre ou contourner certains problèmes: effectifs de modalités trop faibles, redondances, incohérences, distributions asymétriques. Les transformations et imputations sont la conséquence de l'exploration uni et bivariée.\n",
    "\n",
    "**Q** Quel problème présente les variables ci-dessous? Quelles transformation est opérée?"
   ]
  },
  {
   "cell_type": "code",
   "execution_count": null,
   "metadata": {},
   "outputs": [],
   "source": [
    "par(mfrow=c(1,2))\n",
    "options(repr.plot.width=8, repr.plot.height=3)\n",
    "barplot(table(visprem[,\"PCSPQ\"]))\n",
    "barplot(table(visprem[,\"FAMIQ\"]))"
   ]
  },
  {
   "cell_type": "code",
   "execution_count": null,
   "metadata": {},
   "outputs": [],
   "source": [
    "levels(visprem[,\"PCSPQ\"]) = c(\"Pint\",\"Pint\",\"Pcad\",\"Pint\",\"Pemp\",\"Pouv\",\"Psan\",\"Psan\",\"Psan\")\n",
    "levels(visprem[,\"PCSPQ\"])"
   ]
  },
  {
   "cell_type": "code",
   "execution_count": null,
   "metadata": {},
   "outputs": [],
   "source": [
    "levels(visprem[,\"FAMIQ\"]) = c(\"Fseu\",\"Fseu\",\"Finc\",\"Fcou\",\"Fseu\",\"Fcou\",\"Fseu\")\n",
    "levels(visprem[,\"FAMIQ\"])"
   ]
  },
  {
   "cell_type": "code",
   "execution_count": null,
   "metadata": {},
   "outputs": [],
   "source": [
    "par(mfrow=c(1,2))\n",
    "options(repr.plot.width=8, repr.plot.height=3)\n",
    "barplot(table(visprem[,\"PCSPQ\"]))\n",
    "barplot(table(visprem[,\"FAMIQ\"]))"
   ]
  },
  {
   "cell_type": "markdown",
   "metadata": {},
   "source": [
    "**Q** Quel problème révèle la distribution ci-dessous de la variable  « ancienneté dans la banque », exprimée en mois?"
   ]
  },
  {
   "cell_type": "code",
   "execution_count": null,
   "metadata": {},
   "outputs": [],
   "source": [
    "par(mfrow=c(1,2))\n",
    "options(repr.plot.width=8, repr.plot.height=4)\n",
    "hist(visprem[,\"RELAT\"])\n",
    "plot(visprem[,\"AGER\"],visprem[,\"RELAT\"])"
   ]
  },
  {
   "cell_type": "code",
   "execution_count": null,
   "metadata": {},
   "outputs": [],
   "source": [
    "visprem[!is.na(visprem$RELAT) & (visprem$RELAT>600),\"RELAT\"]<-visprem[!is.na(visprem$RELAT) & visprem$RELAT>600,\"RELAT\"]-720"
   ]
  },
  {
   "cell_type": "markdown",
   "metadata": {},
   "source": [
    "**Q** Quelle transformation est opérée pour résoudre ce problème? A quoi pourrait-il être dû?"
   ]
  },
  {
   "cell_type": "markdown",
   "metadata": {},
   "source": [
    "La variable `ROCNB` présente encore de nombreuses valeurs manquantes. \n",
    "\n",
    "**Q** Que signifie le tableau ci-dessous. Quelle correction suggère-t-il."
   ]
  },
  {
   "cell_type": "code",
   "execution_count": null,
   "metadata": {},
   "outputs": [],
   "source": [
    "table(is.na(visprem[,\"ROCNB\"]),visprem[,\"NTCAS\"])"
   ]
  },
  {
   "cell_type": "code",
   "execution_count": null,
   "metadata": {},
   "outputs": [],
   "source": [
    "visprem[is.na(visprem[,\"ROCNB\"]),\"ROCNB\"]=0"
   ]
  },
  {
   "cell_type": "markdown",
   "metadata": {},
   "source": [
    "**Q** Que dire de la distribution de la variable ci-dessous? Quelle transformaiton proposer pour toutes celles de ce type?"
   ]
  },
  {
   "cell_type": "code",
   "execution_count": null,
   "metadata": {},
   "outputs": [],
   "source": [
    "options(repr.plot.width=5, repr.plot.height=4)\n",
    "hist(visprem[,\"TAVEP\"])"
   ]
  },
  {
   "cell_type": "code",
   "execution_count": null,
   "metadata": {},
   "outputs": [],
   "source": [
    "visprem = transform(visprem,OPGNBL=log(1+OPGNB))\n",
    "visprem = transform(visprem,MOYRVL=log(1+MOYRV))\n",
    "visprem = transform(visprem,TAVEPL=log(1+TAVEP))\n",
    "visprem = transform(visprem,ENDETL=log(1+ENDET))\n",
    "visprem = transform(visprem,GAGETL=log(1+GAGET))\n",
    "visprem = transform(visprem,GAGECL=log(1+GAGEC))\n",
    "visprem = transform(visprem,GAGEML=log(1+GAGEM))\n",
    "visprem = transform(visprem,QCREDL=log(1+QCRED))\n",
    "visprem = transform(visprem,DMVTPL=log(1+DMVTP))\n",
    "visprem = transform(visprem,BOPPNL=log(1+BOPPN))\n",
    "visprem = transform(visprem,FACANL=log(1+FACAN))\n",
    "visprem = transform(visprem,LGAGTL=log(1+LGAGT))\n",
    "visprem = transform(visprem,VIEMTL=log(1+VIEMT))\n",
    "visprem = transform(visprem,XLGMTL=log(1+XLGMT))\n",
    "visprem = transform(visprem,YLVMTL=log(1+YLVMT))\n",
    "visprem = transform(visprem,ITAVCL=log(1+ITAVC))\n",
    "visprem = transform(visprem,HAVEFL=log(1+HAVEF))\n",
    "visprem = transform(visprem,JNBJDL=log(1+JNBJD))"
   ]
  },
  {
   "cell_type": "markdown",
   "metadata": {},
   "source": [
    "**Q** Quel problème révèle le tableau ci-dessous? Comment le régler?"
   ]
  },
  {
   "cell_type": "code",
   "execution_count": null,
   "metadata": {
    "scrolled": true
   },
   "outputs": [],
   "source": [
    "table(visprem[,\"NTCAS\"],visprem[,\"CARVP\"])"
   ]
  },
  {
   "cell_type": "markdown",
   "metadata": {},
   "source": [
    "Suppression des dernières valeurs manquantes et des variables inutiles car constantes."
   ]
  },
  {
   "cell_type": "code",
   "execution_count": null,
   "metadata": {},
   "outputs": [],
   "source": [
    "visprem = visprem[!is.na(visprem[,\"DMVTP\"]),]"
   ]
  },
  {
   "cell_type": "code",
   "execution_count": null,
   "metadata": {},
   "outputs": [],
   "source": [
    "var = c(\"SEXEQ\",\"FAMIQ\",\"PCSPQ\",\n",
    " \"RELAT\",\"AGER\",\"OPGNBL\",\"MOYRVL\",\"TAVEPL\",\"ENDETL\",\"GAGETL\",\n",
    " \"GAGECL\",\"GAGEML\",\"KVUNB\",\"QSMOY\",\"QCREDL\",\"DMVTPL\",\"BOPPNL\",\n",
    " \"FACANL\",\"LGAGTL\",\"VIENB\",\"VIEMTL\",\"UEMNB\",\"XLGNB\",\n",
    " \"XLGMTL\",\"YLVNB\",\"YLVMTL\",\"ROCNB\",\"NPTAG\",\"ITAVCL\",\n",
    " \"HAVEFL\",\"JNBJDL\",\"CARVP\")\n",
    "vispremt = visprem[,var]\n",
    "summary(vispremt)"
   ]
  },
  {
   "cell_type": "markdown",
   "metadata": {},
   "source": [
    "La moyenne des soldes moyens sur trois mois `QSMOY` pose toujours un problème:"
   ]
  },
  {
   "cell_type": "code",
   "execution_count": null,
   "metadata": {},
   "outputs": [],
   "source": [
    "par(mfrow=c(1,2))\n",
    "options(repr.plot.width=8, repr.plot.height=4)\n",
    "boxplot(vispremt$QSMOY)\n",
    "boxplot(vispremt$QSMOY~vispremt$CARVP)"
   ]
  },
  {
   "cell_type": "markdown",
   "metadata": {},
   "source": [
    "mais elle semble peu discriminante, elle est conservée en l'état. Sinon une transformation par la fonction \"argument sinus hyperbolique\" peut être utilisée avec ce type de distribution mais ce n'est pas indispensable.\n",
    "\n",
    "**Q** Que représente le graphique ci-dessous? Interprétation en quelques lignes. Ces variables semblent-elles liées ? "
   ]
  },
  {
   "cell_type": "code",
   "execution_count": null,
   "metadata": {},
   "outputs": [],
   "source": [
    "mosaicplot(table(visprem[,\"SEXEQ\"],visprem[,\"CARVP\"]))"
   ]
  },
  {
   "cell_type": "markdown",
   "metadata": {},
   "source": [
    "**Q** Comment interpréter le graphe ci-dessous?"
   ]
  },
  {
   "cell_type": "code",
   "execution_count": null,
   "metadata": {
    "scrolled": true
   },
   "outputs": [],
   "source": [
    "options(repr.plot.width=8, repr.plot.height=8)\n",
    "pairs(vispremt[,c(\"AGER\",\"RELAT\",\"QSMOY\", \"OPGNBL\", \"MOYRVL\",\"TAVEPL\", \"ENDETL\", \"GAGETL\",\"GAGECL\",\n",
    "                  \"GAGEML\", \"QCREDL\", \"DMVTPL\",\"BOPPNL\",\"FACANL\")])"
   ]
  },
  {
   "cell_type": "markdown",
   "metadata": {},
   "source": [
    "# <FONT COLOR=\"Red\">Épisode 2 ACP</font>"
   ]
  },
  {
   "cell_type": "markdown",
   "metadata": {},
   "source": [
    "## 3 [Analyse en composantes principales](http://wikistat.fr/pdf/st-m-explo-acp.pdf)\n",
    "Cette phase de l'analyse permet de mieux comprendre la structure de corrélation des variables afin de d'appréhender ce que seront les grandes classes de comportement des clients.\n",
    "### 3.1 Avec la fonction `princomp` de R\n",
    "#### Dimension\n",
    "\n",
    "**Q** L'ACP calculée ci-dessous est-elle réduite ? Pourquoi?"
   ]
  },
  {
   "cell_type": "code",
   "execution_count": null,
   "metadata": {},
   "outputs": [],
   "source": [
    "# Sélection des variables quantitatives\n",
    "dat=vispremt[,c(\"AGER\",\"RELAT\",\"KVUNB\", \"OPGNBL\", \"MOYRVL\",\"TAVEPL\",\"ENDETL\",\"GAGETL\",\"GAGECL\",\n",
    "               \"GAGEML\",\"QCREDL\",\"DMVTPL\",\"BOPPNL\",\"FACANL\",\"LGAGTL\",\"VIEMTL\",\"XLGMTL\",\"YLVMTL\",\n",
    "               \"ITAVCL\",\"HAVEFL\",\"JNBJDL\",\"ROCNB\")]\n",
    "acp=princomp(dat,cor=TRUE)\n",
    "# Décroissance des valeurs propres\n",
    "par(mfrow = c(2,1))\n",
    "options(repr.plot.width=6, repr.plot.height=6)\n",
    "plot(acp)\n",
    "boxplot(data.frame(acp$scores))"
   ]
  },
  {
   "cell_type": "markdown",
   "metadata": {},
   "source": [
    "#### Individus\n",
    "**Q** Que représente les graphes ci-dessus? Quelle information en tirer?"
   ]
  },
  {
   "cell_type": "code",
   "execution_count": null,
   "metadata": {},
   "outputs": [],
   "source": [
    "coul=as.integer(vispremt[,\"CARVP\"])+2\n",
    "options(repr.plot.width=6, repr.plot.height=6)\n",
    "plot(acp$scores,col=coul, pch=17+coul-2)"
   ]
  },
  {
   "cell_type": "markdown",
   "metadata": {},
   "source": [
    "**Q** Quel est le graphe ci-dessus? Quelle information en retenir?"
   ]
  },
  {
   "cell_type": "markdown",
   "metadata": {},
   "source": [
    "#### Variables\n",
    "**Q** Que représent le graphe ci-dessous? Donner en une ligne une interprétation de l'axe 1 puis de l'axe2."
   ]
  },
  {
   "cell_type": "code",
   "execution_count": null,
   "metadata": {},
   "outputs": [],
   "source": [
    "options(repr.plot.width=6, repr.plot.height=6)\n",
    "biplot(acp,col=c(\"white\",\"blue\"))"
   ]
  },
  {
   "cell_type": "markdown",
   "metadata": {},
   "source": [
    "### 3.2 Avec `FactomineR`\n",
    "Le package `FactoMineR` offre de nombreuses facilités pour les représentations graphiques.\n",
    "#### Dimension\n",
    "\n",
    "**Q** L'ACP est-relle réduite? Comment interpréter les résultats ci-dessous?"
   ]
  },
  {
   "cell_type": "code",
   "execution_count": null,
   "metadata": {},
   "outputs": [],
   "source": [
    "library(FactoMineR)\n",
    "res.pca=PCA(dat,scale.unit = TRUE, graph=F)\n",
    "par(mfrow=c(1,2))\n",
    "options(repr.plot.width=8, repr.plot.height=3)\n",
    "barplot(res.pca$eig[,1],main=\"Eigenvalues\",names.arg=1:nrow(res.pca$eig))\n",
    "boxplot(res.pca$ind$coord)"
   ]
  },
  {
   "cell_type": "markdown",
   "metadata": {},
   "source": [
    "#### Variables et cercle des corrélations\n",
    "\n",
    "**Q** Qu'est-ce que le cercle des corrélations, à quoi sert-il?\n",
    "\n",
    "**Q** La représentation ci-dessous est-elle différente de celle obtenue par `princomp`? Pourquoi?"
   ]
  },
  {
   "cell_type": "code",
   "execution_count": null,
   "metadata": {},
   "outputs": [],
   "source": [
    "options(repr.plot.width=5, repr.plot.height=5)\n",
    "plot(res.pca,choix=\"var\")"
   ]
  },
  {
   "cell_type": "markdown",
   "metadata": {},
   "source": [
    "**Attention** à ce niveau de l'étude, il est intéressant de produire une classification non supervisée des variables afin de simplifier et compléer l'interprétation. C'est très utile lorsque, comme dans le cas présent, le nombre de variables est important. Cette étape st reportée dans l'épisode 5 pour respecter le déroulement de cette saison.\n",
    "\n",
    "Pas d'**épisode 3**, l'analyse factorielle discriminante n'est pas adaptée à ces données.\n",
    "# <FONT COLOR=\"Red\">Épisode 4 AFCM</font>"
   ]
  },
  {
   "cell_type": "markdown",
   "metadata": {},
   "source": [
    "## 4 [Analyse factorielle multiple des correspondances](http://wikistat.fr/pdf/st-m-explo-afcm.pdf) \n",
    "\n",
    "### 4.1 Recodage des variables\n",
    "Afin d'intégrer toutes les variables et pas seulement celles quantitatives, un recodage de ces dernières variables, permet de toutes les intégrer dans une analyse multiple des correspondances. \n",
    "\n",
    "**Remarques**\n",
    "- Le nombre de classes doit être relativement restreint pour limiter les dimensions et faciliter les interprétations, \n",
    "- il est préférable de choisir, pour des variables distribuées \"normalement\", des classes d'effectifs égaux: les bornes sont des quantiles.\n",
    "- Dans le cas des données bancaires, les variables présentant une distribution très asymétrique se résument souvent en une variable dichotomique: présence ou absence d'un produit financier donné. Dans ce dernier cas, il est inutile de conserver à la fois une variable \"nombre\" et une variable \"montant\" du même produit financier."
   ]
  },
  {
   "cell_type": "markdown",
   "metadata": {},
   "source": [
    "**Q** La variable `FAMIQ`présente quelques données manquantes. Expliquer la stratégie utilisée ci-dessous pour imputer les valeurs manquantes."
   ]
  },
  {
   "cell_type": "code",
   "execution_count": null,
   "metadata": {},
   "outputs": [],
   "source": [
    "vispremv=vispremt\n",
    "inc=row.names(subset(vispremt,vispremt$FAMIQ==\"Finc\"))\n",
    "unif=runif(length(inc))<0.45\n",
    "vispremt[inc,\"FAMIQ\"]<-factor(unif,levels=c(\"TRUE\",\"FALSE\"),labels=c(\"Fseu\",\"Fcou\"))\n",
    "famiq<-as.vector(vispremt[,\"FAMIQ\"])    # Pour aléatoirement le niveau \"Finc\"\n",
    "vispremt[,\"FAMIQ\"]<-factor(famiq)\n",
    "vispremv<-vispremt"
   ]
  },
  {
   "cell_type": "markdown",
   "metadata": {},
   "source": [
    "**Q** Expliciter la stratégie utilisée pour le découpage des variables quantitatives ci-dessous:"
   ]
  },
  {
   "cell_type": "code",
   "execution_count": null,
   "metadata": {},
   "outputs": [],
   "source": [
    "vispremv[,\"kvunbq\"]<-cut(vispremv$KVUNB,\n",
    "                         breaks=c(min(vispremv$KVUNB),1.5,max(vispremv$KVUNB)),\n",
    "                         labels = c(\"K0\",\"K1\"),include.lowest = TRUE)\n",
    "vispremv[,\"vienbq\"]<-cut(vispremv$VIENB,\n",
    "                         breaks=c(min(vispremv$VIENB),0.5,max(vispremv$VIENB)),\n",
    "                         labels = c(\"V0\",\"V1\"),include.lowest = TRUE)\n",
    "vispremv[,\"uemnbq\"]<-cut(vispremv$UEMNB,\n",
    "                         breaks=c(min(vispremv$UEMNB),0.5,1.5,max(vispremv$UEMNB)),\n",
    "                         labels = c(\"U0\",\"U1\",\"U2\"),include.lowest = TRUE)\n",
    "vispremv[,\"xlgnbq\"]<-cut(vispremv$XLGNB,\n",
    "                         breaks=c(min(vispremv$XLGNB),0.5,1.5,max(vispremv$XLGNB)),\n",
    "                         labels = c(\"X0\",\"X1\",\"X2\"),include.lowest = TRUE)\n",
    "vispremv[,\"ylvnbq\"]<-cut(vispremv$YLVNB,\n",
    "                         breaks=c(min(vispremv$YLVNB),0.5,1.5,max(vispremv$YLVNB)),\n",
    "                         labels = c(\"Y0\",\"Y1\",\"Y2\"),include.lowest = TRUE)\n",
    "vispremv[,\"rocnbq\"]<-cut(vispremv$ROCNB,\n",
    "                         breaks=c(min(vispremv$ROCNB),0.5,max(vispremv$ROCNB)),\n",
    "                         labels = c(\"R0\",\"R1\"),include.lowest = TRUE)\n",
    "vispremv[,\"nptagq\"]<-cut(vispremv$NPTAG,\n",
    "                         breaks=c(min(vispremv$NPTAG),0.5,max(vispremv$NPTAG)),\n",
    "                         labels = c(\"N0\",\"N1\"),include.lowest = TRUE)\n",
    "vispremv[,\"endetq\"]<-cut(ceiling(vispremv$ENDETL),\n",
    "                         breaks=c(min(ceiling(vispremv$ENDETL)),0.5,max(ceiling(vispremv$ENDETL))),\n",
    "                         labels = c(\"E0\",\"E1\"),include.lowest = TRUE)\n",
    "vispremv[,\"gagetq\"]<-cut(ceiling(vispremv$GAGETL),\n",
    "                         breaks=c(min(ceiling(vispremv$GAGETL)),0.5,max(ceiling(vispremv$GAGETL))),\n",
    "                         labels = c(\"G0\",\"G1\"),include.lowest = TRUE)\n",
    "vispremv[,\"facanq\"]<-cut(ceiling(vispremv$FACANL), \n",
    "                         breaks=c(min(ceiling(vispremv$FACANL)),0.5,max(ceiling(vispremv$FACANL))), \n",
    "                         labels = c(\"F0\",\"F1\"),include.lowest = TRUE)\n",
    "vispremv[,\"lgagtq\"]<-cut(ceiling(vispremv$LGAGTL), \n",
    "                         breaks=c(min(ceiling(vispremv$LGAGTL)),0.5,max(ceiling(vispremv$LGAGTL))), \n",
    "                         labels = c(\"L0\",\"L1\"),include.lowest = TRUE)\n",
    "vispremv[,\"havefq\"]<-cut(ceiling(vispremv$HAVEFL), \n",
    "                         breaks=c(min(ceiling(vispremv$HAVEFL)),0.5,max(ceiling(vispremv$HAVEFL))), \n",
    "                         labels = c(\"H0\",\"H1\"),include.lowest = TRUE)\n",
    "vispremv[,\"jnbjdq\"]<-cut(vispremv$JNBJDL,\n",
    "                         breaks=c(0,0.0001,2.8,5),\n",
    "                         labels = c(\"J0\",\"J1\",\"J2\"),include.lowest = TRUE)"
   ]
  },
  {
   "cell_type": "markdown",
   "metadata": {},
   "source": [
    "**Q** Expliciter la stratégie utilisée pour le découpage des variables quantitatives ci-dessous:"
   ]
  },
  {
   "cell_type": "code",
   "execution_count": null,
   "metadata": {},
   "outputs": [],
   "source": [
    "vispremv[,\"ageq\"]<-cut(vispremv$AGER,\n",
    "                       breaks=quantile(vispremv[,\"AGER\"], probs = seq(0, 1, 1/3)),\n",
    "                       labels = c(\"A0\",\"A1\",\"A2\"),include.lowest = TRUE)\n",
    "vispremv[,\"relatq\"]<-cut(vispremv$RELAT,\n",
    "                         breaks=quantile(vispremv[,\"RELAT\"], probs = seq(0, 1, 1/3)),\n",
    "                         labels = c(\"R0\",\"R1\",\"R2\"),include.lowest = TRUE)\n",
    "vispremv[,\"qsmoyq\"]<-cut(vispremv$QSMOY,\n",
    "                         breaks=quantile(vispremv[,\"QSMOY\"], probs = seq(0, 1, 1/3)),\n",
    "                         labels = c(\"Q0\",\"Q1\",\"Q2\"),include.lowest = TRUE)\n",
    "vispremv[,\"opgnbq\"]<-cut(vispremv$OPGNBL,\n",
    "                         breaks=c(0,0.0000001,0.7,3.367296),\n",
    "                         labels = c(\"O0\",\"O1\",\"O2\"),include.lowest = TRUE)\n",
    "vispremv[,\"moyrvq\"]<-cut(vispremv$MOYRVL,\n",
    "                         breaks=quantile(vispremv[,\"MOYRVL\"], probs = seq(0, 1, 1/3)),\n",
    "                         labels = c(\"M0\",\"M1\",\"M2\"),include.lowest = TRUE)\n",
    "vispremv[,\"tavepq\"]<-cut(vispremv$TAVEPL,\n",
    "                         breaks=quantile(vispremv[,\"TAVEPL\"], probs = seq(0, 1, 1/3)),\n",
    "                         labels = c(\"T0\",\"T1\",\"T2\"),include.lowest = TRUE)\n",
    "vispremv[,\"dmvtpq\"]<-cut(vispremv$DMVTPL,\n",
    "                         breaks=quantile(vispremv[,\"DMVTPL\"], probs = seq(0, 1, 1/3)),\n",
    "                         labels = c(\"D0\",\"D1\",\"D2\"),include.lowest = TRUE)\n",
    "vispremv[,\"boppnq\"]<-cut(vispremv$BOPPNL,\n",
    "                         breaks=quantile(vispremv[,\"BOPPNL\"], probs = seq(0, 1, 1/3)),\n",
    "                         labels = c(\"B0\",\"B1\",\"B2\"),include.lowest = TRUE)\n",
    "vispremv[,\"itavcq\"]<-cut(vispremv$ITAVCL,\n",
    "                         breaks=quantile(vispremv[,\"ITAVCL\"], probs = seq(0, 1, 1/3)),\n",
    "                         labels = c(\"I0\",\"I1\",\"I2\"),include.lowest = TRUE)"
   ]
  },
  {
   "cell_type": "markdown",
   "metadata": {},
   "source": [
    "Les variables sont réordonnées de façon à faire lister dans vispremv: \n",
    "- les variables qualitatives initiales et obtenues par recodage, \n",
    "- celles quantitatives\n",
    "- `CARVP`"
   ]
  },
  {
   "cell_type": "code",
   "execution_count": null,
   "metadata": {},
   "outputs": [],
   "source": [
    "var<-c(names(vispremv)[1:3],names(vispremv)[33:54],names(vispremv)[4:31],names(vispremv)[32])   \n",
    "vispremv<-vispremv[,var]\n",
    "summary(vispremv)"
   ]
  },
  {
   "cell_type": "markdown",
   "metadata": {},
   "source": [
    "### 4.2 AFCM élémentaire\n",
    "Il est classique de rechercher une première AFCM n'utilisant que les variables résumant les caractéristiques sociales (signalétique) des clients en variables principales afin de détecter d'éventuelles incohérences. Les variables bancaires sont projetées en tant que variables supplémentaires. \n",
    "\n",
    "**Q** Que signifient les valeurs propres si-dessous?"
   ]
  },
  {
   "cell_type": "code",
   "execution_count": null,
   "metadata": {},
   "outputs": [],
   "source": [
    "afc=MCA(vispremv[, c(1:25,54)],quali.sup=c(4:16,19:26))\n",
    "summary(afc)"
   ]
  },
  {
   "cell_type": "markdown",
   "metadata": {},
   "source": [
    "**Q** Commenter le graphique ci-dessous. Présente-t-il des incohérences particulières ?"
   ]
  },
  {
   "cell_type": "code",
   "execution_count": null,
   "metadata": {},
   "outputs": [],
   "source": [
    "options(repr.plot.width=5, repr.plot.height=5)\n",
    "plot.MCA(afc,invisible=c(\"ind\"),col.var=\"blue\",cex=0.6)"
   ]
  },
  {
   "cell_type": "markdown",
   "metadata": {},
   "source": [
    "###  4.3 AFCM de toutes les variables qualitatives\n",
    "L'objectif de cette exploration est de construire la représentation la plus explicite pour bien appréhender les structures des données. \n",
    "\n",
    "**Q** Remarquant que la plupart des modalités \"0\" se trouvent à gauche du graphique suivant, quelle interprétation donner du premier axe? \n",
    "\n",
    "*Rappel*: le premier caractère de chaque libellé de modalité identifie la variable.\n",
    "\n",
    "**Q** Identifier quelques variables et modalités caractéristiques et donnez une interprétation du 2ème axe.\n",
    "\n",
    "**Q** Qu’est-ce qui caractérise principalement les porteurs de la carte visa premier (variable CARVP) ?"
   ]
  },
  {
   "cell_type": "code",
   "execution_count": null,
   "metadata": {},
   "outputs": [],
   "source": [
    "afc=MCA(vispremv[, c(1:25,54)],quali.sup=c(26))"
   ]
  },
  {
   "cell_type": "code",
   "execution_count": null,
   "metadata": {
    "scrolled": false
   },
   "outputs": [],
   "source": [
    "options(repr.plot.width=8, repr.plot.height=8)\n",
    "plot.MCA(afc,invisible=c(\"ind\"),habillage=\"quali\",palette=palette(rainbow(25)))"
   ]
  },
  {
   "cell_type": "code",
   "execution_count": null,
   "metadata": {},
   "outputs": [],
   "source": [
    "plot.MCA(afc,axes=c(1,3),invisible=c(\"ind\"),habillage=\"quali\",palette=palette(rainbow(25)))"
   ]
  },
  {
   "cell_type": "markdown",
   "metadata": {},
   "source": [
    "**Q** Le graphe ci-dessous représente également les clients dans le plan (1,2). L’AFC de quelle matrice a été calculée pour aboutir à ce résultat ? "
   ]
  },
  {
   "cell_type": "code",
   "execution_count": null,
   "metadata": {},
   "outputs": [],
   "source": [
    "options(repr.plot.width=5, repr.plot.height=5)\n",
    "palette(\"default\")\n",
    "plot(afc$ind$coord,type=\"p\",pch=\".\",cex=3,col=as.integer(vispremv[,54]))"
   ]
  },
  {
   "cell_type": "markdown",
   "metadata": {},
   "source": [
    "# <FONT COLOR=\"Red\">Épisode 5 Classification non supervisée</font>"
   ]
  },
  {
   "cell_type": "markdown",
   "metadata": {},
   "source": [
    "### 3.3 Classification des variables\n",
    "***N.B.*** Cette section dépend de l'épisode 3 pour aider à l'interprétation de l'ACP.\n",
    "\n",
    "Les interprétations sont difficiles, notamment à cause du nombre de variables. Une classification de celles-ci peut aider à l'interprétation.\n",
    "#### [Classification ascendante hiérarchique](http://wikistat.fr/pdf/st-m-explo-classif.pdf)\n",
    "**Q** Quelles est, ci-dessous, la distance calculée entre les \"variables\"? Est-elle euclidienne? Quelle autre distance aurait pu être utilisée?"
   ]
  },
  {
   "cell_type": "code",
   "execution_count": null,
   "metadata": {},
   "outputs": [],
   "source": [
    "dist.var<-as.dist(1-cor(dat)**2)"
   ]
  },
  {
   "cell_type": "markdown",
   "metadata": {},
   "source": [
    "**Q** Quelle est la méthode utilisée ci-dessous et avec quelle option? Quelles autres options sont disponibles?"
   ]
  },
  {
   "cell_type": "code",
   "execution_count": null,
   "metadata": {},
   "outputs": [],
   "source": [
    "clas.var<-hclust(dist.var,method=\"ward.D\")"
   ]
  },
  {
   "cell_type": "markdown",
   "metadata": {},
   "source": [
    "**Q** Comment choisir le nombre de classes? Jusifier."
   ]
  },
  {
   "cell_type": "code",
   "execution_count": null,
   "metadata": {},
   "outputs": [],
   "source": [
    "options(repr.plot.width=3, repr.plot.height=3)\n",
    "plot(clas.var$height[21:10])"
   ]
  },
  {
   "cell_type": "markdown",
   "metadata": {},
   "source": [
    "**Q** Comment sont mesurées les distances entre sous-groupes de variables? \n",
    "\n",
    "**Q** Quel est le graphique ci-dessous. Considérer trois classes. Comment interpréter ces regroupements? Quel lien avec les axes de l'ACP?"
   ]
  },
  {
   "cell_type": "code",
   "execution_count": null,
   "metadata": {},
   "outputs": [],
   "source": [
    "options(repr.plot.width=8, repr.plot.height=5)\n",
    "plot(clas.var)"
   ]
  },
  {
   "cell_type": "markdown",
   "metadata": {},
   "source": [
    "## 5 Segmentation ou *clustering* des clients\n",
    "L'objectif principal, lors de cette première étude des données, est de fournir une typologie ou segmentation des clients. C'est-à-dire de définir des classes les plus homogènes au regard des comportements bancaires. Les algorithmes de classification étudiés sont adaptés à des variables {*quantitatives* ou des matrices de distances. L'intégration d'informations qualitatives peut se faire par un recodage préalable (scoring) à l'aide d'une analyse des correspondances multiples. Ce scénatio se propose donc de comparer deux approches: classification à partir des seules variables quantitatives ou classification à partir des scores issues d'une afcm. D'autres approches sont envisageables sur des variables qualitatives qui nécessitent la définition d'une distance ou dissimilarité entre individus adaptée aux variables qualitatives. Mais, nécessitant la construction de la matrice *n x n* des distances des individus deux à deux, elles ne sont pas adaptées aux très grands tableaux.\n",
    "\n",
    "### 5.1 Sur les seules variables quantitatives\n",
    "A titre d'exemple, voici comment obtenir une typologie à partir des seules variables quantitatives. \n",
    "\n",
    "**Q** Quel problème peut poser la CAH (classification ascendante hiérérchique)) pour de très gros fichiers? \n",
    "\n",
    "**Q** En revanche, quel est l'avantage de la CAH sur les algortihmes par réallocation dynamique de type $k-means$?\n",
    "\n",
    "**Q** Quelle stratégie peut être employée pour contourner le problème de *n* grand?"
   ]
  },
  {
   "cell_type": "code",
   "execution_count": null,
   "metadata": {},
   "outputs": [],
   "source": [
    "dat=vispremv[,c(26:54)]\n",
    "ds=dist(scale(dat[,-29]))\n",
    "options(repr.plot.width=5, repr.plot.height=5)\n",
    "hc.ds = hclust(ds,method=\"ward.D\")\n",
    "plot(hc.ds)"
   ]
  },
  {
   "cell_type": "code",
   "execution_count": null,
   "metadata": {},
   "outputs": [],
   "source": [
    "options(repr.plot.width=4, repr.plot.height=4)\n",
    "plot(hc.ds$height[1062:1042],type=\"b\")"
   ]
  },
  {
   "cell_type": "markdown",
   "metadata": {},
   "source": [
    "**Q** Quel est le graphique ci-dessus? Quelle conclusion en tirer?"
   ]
  },
  {
   "cell_type": "code",
   "execution_count": null,
   "metadata": {},
   "outputs": [],
   "source": [
    "Classe = cutree(hc.ds,k=5)"
   ]
  },
  {
   "cell_type": "markdown",
   "metadata": {},
   "source": [
    "Représentation des classes."
   ]
  },
  {
   "cell_type": "code",
   "execution_count": null,
   "metadata": {},
   "outputs": [],
   "source": [
    "acp=PCA(dat,quali.sup=29,ncp=13,graph=F)\n",
    "# graphe de l’acp\n",
    "palette(\"default\")\n",
    "options(repr.plot.width=5, repr.plot.height=5)\n",
    "plot(acp,choix=\"ind\", habillage=\"ind\",col.hab=Classe,cex=0.2)"
   ]
  },
  {
   "cell_type": "markdown",
   "metadata": {},
   "source": [
    "Comparaison avec un autre algorithme de classificaion non supervisée."
   ]
  },
  {
   "cell_type": "code",
   "execution_count": null,
   "metadata": {},
   "outputs": [],
   "source": [
    "kocde=kmeans(dat[,-29],5)\n",
    "Klasse=kocde$cluster\n",
    "plot(acp,choix=\"ind\", habillage=\"ind\",col.hab=Klasse,cex=0.2)"
   ]
  },
  {
   "cell_type": "code",
   "execution_count": null,
   "metadata": {},
   "outputs": [],
   "source": [
    "table(Classe, Klasse)"
   ]
  },
  {
   "cell_type": "markdown",
   "metadata": {},
   "source": [
    "**Q** En tenant compte des deux représentations par ACp et du tableau ci-dessus, que dire de la qualité des classes obtenues?"
   ]
  },
  {
   "cell_type": "markdown",
   "metadata": {},
   "source": [
    "### 5.2 *Clustering* sur composantes de l'AFCM\n",
    "Il semble important de prendre également en compte les variables qualitatives dans cette étude.\n",
    "\n",
    "**Q** Préciser la démarche permettant d'obtenir une typologie des clients décrits par des variables à la fois quantitatives et qualitatives."
   ]
  },
  {
   "cell_type": "code",
   "execution_count": null,
   "metadata": {},
   "outputs": [],
   "source": [
    "res.hcpc=HCPC(afc,nb.clust=5,method=\"ward\",order=F,graph=F)\n",
    "options(repr.plot.width=4, repr.plot.height=4)\n",
    "plot(res.hcpc,choice=\"bar\")"
   ]
  },
  {
   "cell_type": "markdown",
   "metadata": {},
   "source": [
    "**Q** Comment choisir le nombre de classes?"
   ]
  },
  {
   "cell_type": "code",
   "execution_count": null,
   "metadata": {},
   "outputs": [],
   "source": [
    "color=as.integer(res.hcpc$data.clust$clust)\n",
    "options(repr.plot.width=5, repr.plot.height=5)\n",
    "plot(afc, choix=\"ind\",habillage=\"quali\",col.ind=color,cex=0.2)"
   ]
  },
  {
   "cell_type": "markdown",
   "metadata": {},
   "source": [
    "**Q** Justifier le choix du nombre de classes.\n",
    "\n",
    "Les classes obtenues sont définies comme les modalités `Cl1` à `Cl5` d’une variable qualitative `Classe`. Comme pour l'ACP, la classification obtenue est comparée avec celle produite par *k-means*."
   ]
  },
  {
   "cell_type": "code",
   "execution_count": null,
   "metadata": {},
   "outputs": [],
   "source": [
    "\"Classe\"=factor(res.hcpc$data.clust$clust,labels=c(\"Cl1\",\"Cl2\",\"Cl3\",\"Cl4\",\"Cl5\"))\n",
    "kocde=kmeans(afc$ind$coord,5)\n",
    "Klasse=kocde$cluster\n",
    "table(Classe, Klasse)"
   ]
  },
  {
   "cell_type": "markdown",
   "metadata": {},
   "source": [
    "**Q** Commenter les résultats obtenus. \n",
    "\n",
    "Les classes sont ensuite représentées dans les composantes de l'AFCM en ajoutant la variable `Classe` en supplémentaire.\n",
    "\n",
    "**Q** A partir du graphe ci-dessous, résumer quelques caractéristiques des classes des clients."
   ]
  },
  {
   "cell_type": "code",
   "execution_count": null,
   "metadata": {},
   "outputs": [],
   "source": [
    "# AFCM avec la variable Classe\n",
    "datClasse=data.frame(vispremv[, c(1:25,54)],\"Classe\"=Classe)\n",
    "afc=MCA(datClasse,graph=F,quali.sup=c(26))\n",
    "options(repr.plot.width=8, repr.plot.height=8)\n",
    "plot(afc,habillage=\"quali\",invisible=\"ind\")"
   ]
  },
  {
   "cell_type": "markdown",
   "metadata": {},
   "source": [
    "Sauvegarde des données pour aborder l'étape de modélisation ou de construction du score d'appétence."
   ]
  },
  {
   "cell_type": "code",
   "execution_count": null,
   "metadata": {},
   "outputs": [],
   "source": [
    "write.table(vispremv,\"vispremv.dat\")"
   ]
  },
  {
   "cell_type": "markdown",
   "metadata": {},
   "source": [
    "Pas d'**épisode 6** car la factorisation non négative de matrice n'apporterait rien."
   ]
  }
 ],
 "metadata": {
  "kernelspec": {
   "display_name": "R",
   "language": "R",
   "name": "ir"
  },
  "language_info": {
   "codemirror_mode": "r",
   "file_extension": ".r",
   "mimetype": "text/x-r-source",
   "name": "R",
   "pygments_lexer": "r",
   "version": "3.5.1"
  }
 },
 "nbformat": 4,
 "nbformat_minor": 1
}
